{
 "cells": [
  {
   "cell_type": "code",
   "execution_count": 28,
   "metadata": {},
   "outputs": [
    {
     "name": "stdout",
     "output_type": "stream",
     "text": [
      "AI: The Recognition of Prior Learning (RPL) process at AUT involves submitting official transcripts, course descriptors, and an RPL form along with a fee of $100. Each programme and level may have different limits for RPL, typically with a 5-year limit. The assessment of RPL generally takes place within 4 weeks."
     ]
    },
    {
     "data": {
      "text/plain": [
       "AIMessageChunk(content='AI: The Recognition of Prior Learning (RPL) process at AUT involves submitting official transcripts, course descriptors, and an RPL form along with a fee of $100. Each programme and level may have different limits for RPL, typically with a 5-year limit. The assessment of RPL generally takes place within 4 weeks.')"
      ]
     },
     "execution_count": 28,
     "metadata": {},
     "output_type": "execute_result"
    }
   ],
   "source": [
    "from langchain.chat_models import ChatOpenAI\n",
    "from langchain.prompts import PromptTemplate\n",
    "from langchain.prompts.few_shot import FewShotPromptTemplate\n",
    "from langchain.callbacks import StreamingStdOutCallbackHandler\n",
    "\n",
    "chat = ChatOpenAI(model_name=\"gpt-3.5-turbo\", temperature=0.1, streaming=True, callbacks=[StreamingStdOutCallbackHandler()],)\n",
    "\n",
    "t = PromptTemplate(\n",
    "  template=\"What is the RPL process of {university}\",\n",
    "  input_variables=[\"university\"],\n",
    " )\n",
    "\n",
    "t.format(university=[\"AUT\", \"UOA\", \"MIT\"])\n",
    "\n",
    "examples = [\n",
    "    {\n",
    "        \"question\": \"What do you know about the RPL process at AUT?\",\n",
    "        \"answer\": \"\"\"\n",
    "        I know this:\n",
    "        - Fee: $100\n",
    "        - Documents: Official transcripts, course descriptors, RPL form\n",
    "        - Limits: Differs by programme and level. Refer to each programme calendar for specific limits. Typically, a 5-year limit applies.\n",
    "        - Assessment Length: Generally within 4 weeks\n",
    "        \"\"\"\n",
    "    },\n",
    "    {\n",
    "        \"question\": \"What do you know about the study application process at the University of Auckland?\",\n",
    "        \"answer\": \"\"\"\n",
    "        The study application process at the University of Auckland involves the following steps:\n",
    "        - Create an account on the university's application portal.\n",
    "        - Complete the online application form with your personal and academic details.\n",
    "        - Upload required documents such as academic transcripts, proof of identity, and English language proficiency test scores.\n",
    "        - Pay the application fee, which is around NZD $100.\n",
    "        - Submit your application and wait for the admission decision, which usually takes a few weeks.\n",
    "        \"\"\"\n",
    "    },\n",
    "    {\n",
    "        \"question\": \"What do you know about the enrolment process at MIT?\",\n",
    "        \"answer\": \"\"\"\n",
    "        The enrolment process at MIT involves the following steps:\n",
    "        - Receive an offer of admission from MIT and accept the offer.\n",
    "        - Complete the online enrolment form with your personal and academic details.\n",
    "        - Provide proof of immunization and health insurance coverage.\n",
    "        - Attend the orientation program for new students.\n",
    "        - Register for courses through the MIT online portal.\n",
    "        - Pay the tuition fees and other associated costs.\n",
    "        \"\"\"\n",
    "    }\n",
    "]\n",
    "\n",
    "example_prompt = PromptTemplate.from_template(\"Huamn:{question}\\n AI: {answer}\")\n",
    "\n",
    "prompt = FewShotPromptTemplate(\n",
    "    example_prompt =example_prompt,\n",
    "    examples=examples,\n",
    "    suffix=\"Human: What do you know about the RPL process at {university}?\",\n",
    "    input_variables=[\"university\"]\n",
    ")\n",
    "\n",
    "chain = prompt | chat\n",
    "\n",
    "chain.invoke({\n",
    "    \"university\":\"UOA\"\n",
    "})"
   ]
  },
  {
   "cell_type": "code",
   "execution_count": null,
   "metadata": {},
   "outputs": [],
   "source": [
    "\n"
   ]
  }
 ],
 "metadata": {
  "kernelspec": {
   "display_name": "env",
   "language": "python",
   "name": "python3"
  },
  "language_info": {
   "codemirror_mode": {
    "name": "ipython",
    "version": 3
   },
   "file_extension": ".py",
   "mimetype": "text/x-python",
   "name": "python",
   "nbconvert_exporter": "python",
   "pygments_lexer": "ipython3",
   "version": "3.11.9"
  }
 },
 "nbformat": 4,
 "nbformat_minor": 2
}
