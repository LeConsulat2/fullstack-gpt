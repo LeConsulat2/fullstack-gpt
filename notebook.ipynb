{
 "cells": [
  {
   "cell_type": "code",
   "execution_count": 12,
   "metadata": {},
   "outputs": [
    {
     "name": "stdout",
     "output_type": "stream",
     "text": [
      "A potato is a small, white, oval shaped bird with brown wings that is often considered the officer's best bird during the hunting season. It is a versatile, highly adaptable bird, and is used on land in most countries with its natural attributes and in hunting and\n"
     ]
    }
   ],
   "source": [
    "from langchain.llms.huggingface_pipeline import HuggingFacePipeline\n",
    "from langchain.prompts import PromptTemplate\n",
    "\n",
    "# Define the prompt template\n",
    "prompt = PromptTemplate.from_template(\"A {word} is a\")\n",
    "\n",
    "# Initialize the HuggingFacePipeline with the specified model and token limit\n",
    "llm = HuggingFacePipeline.from_model_id(\n",
    "    model_id=\"openai-community/gpt2\",\n",
    "    task=\"text-generation\",\n",
    "    pipeline_kwargs={\n",
    "        \"max_new_tokens\": 150,\n",
    "    },\n",
    ")\n",
    "\n",
    "\n",
    "# Define a function to generate the prompt and get the response\n",
    "def generate_definition(word):\n",
    "    prompt_text = prompt.format(word=word)\n",
    "    response = llm(prompt_text)\n",
    "    return response\n",
    "\n",
    "\n",
    "# Test the function\n",
    "response = generate_definition(\"potato\")\n",
    "print(response)"
   ]
  }
 ],
 "metadata": {
  "kernelspec": {
   "display_name": "env",
   "language": "python",
   "name": "python3"
  },
  "language_info": {
   "codemirror_mode": {
    "name": "ipython",
    "version": 3
   },
   "file_extension": ".py",
   "mimetype": "text/x-python",
   "name": "python",
   "nbconvert_exporter": "python",
   "pygments_lexer": "ipython3",
   "version": "3.11.9"
  }
 },
 "nbformat": 4,
 "nbformat_minor": 2
}
