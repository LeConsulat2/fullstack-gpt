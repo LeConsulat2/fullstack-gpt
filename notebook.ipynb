{
 "cells": [
  {
   "cell_type": "code",
   "execution_count": 1,
   "metadata": {},
   "outputs": [],
   "source": [
    "from langchain.memory import ConversationSummaryBufferMemory\n",
    "from langchain.chat_models import ChatOpenAI\n",
    "from langchain.prompts import ChatPromptTemplate, MessagesPlaceholder\n",
    "from langchain.schema.runnable import RunnablePassthrough\n",
    "\n",
    "# Initialize the language model with a low temperature for more deterministic responses\n",
    "llm = ChatOpenAI(temperature=0.1)\n",
    "\n",
    "# Set up the memory buffer to keep track of the conversation history with a token limit\n",
    "memory = ConversationSummaryBufferMemory(\n",
    "    llm=llm,\n",
    "    max_token_limit=100,  # Limit on the number of tokens in memory\n",
    "    memory_key=\"chat_history\",  # Key used to store chat history\n",
    "    return_messages=True,  # Return messages to be used in responses\n",
    ")\n",
    "\n",
    "# Define the chat prompt template, including system instructions and placeholders for chat history and user questions\n",
    "prompt = ChatPromptTemplate.from_messages([\n",
    "    (\"system\", \"You are a helpful AI talking to a human\"),  # System message setting the context\n",
    "    MessagesPlaceholder(variable_name=\"chat_history\"),  # Placeholder for conversation history\n",
    "    (\"human\", \"{question}\")  # Placeholder for the human's question\n",
    "])\n",
    "\n",
    "# Define a function to load memory\n",
    "def load_memory(input):\n",
    "    # Print the input for debugging purposes\n",
    "    print(input)\n",
    "    # Return the chat history from memory\n",
    "    return memory.load_memory_variables({})[\"chat_history\"]\n",
    "\n",
    "# Create the chain of operations to process the input, generate the prompt, and get a response from the model\n",
    "chain = RunnablePassthrough.assign(chat_history=load_memory) | prompt | llm\n",
    "\n",
    "# Define a function to invoke the chain with a question and save the context to memory\n",
    "def invoke_chain(question):\n",
    "    # Invoke the chain with the given question and store the result\n",
    "    result = chain.invoke({\"question\": question})\n",
    "    # Save the input question and the model's response to memory\n",
    "    memory.save_context({\"input\": question}, {\"output\": result.content})\n",
    "    # Print the result for debugging purposes\n",
    "    print(result)\n",
    "\n",
    "# Example usage of the invoke_chain function with a specific question\n",
    "invoke_chain(\"My name is Jonathan\")\n"
   ]
  },
  {
   "cell_type": "code",
   "execution_count": 2,
   "metadata": {},
   "outputs": [
    {
     "name": "stdout",
     "output_type": "stream",
     "text": [
      "{'question': 'My name is Jonathan'}\n",
      "content='Hello Jonathan! How can I assist you today?'\n"
     ]
    }
   ],
   "source": [
    "invoke_chain(\"my name is Jonathan\")"
   ]
  },
  {
   "cell_type": "code",
   "execution_count": 3,
   "metadata": {},
   "outputs": [
    {
     "name": "stdout",
     "output_type": "stream",
     "text": [
      "{'question': 'My name is Jonathan'}\n",
      "content='Got it, Jonathan! How can I assist you today?'\n"
     ]
    }
   ],
   "source": [
    "invoke_chain(\"what is nmy name?\")"
   ]
  }
 ],
 "metadata": {
  "kernelspec": {
   "display_name": "env",
   "language": "python",
   "name": "python3"
  },
  "language_info": {
   "codemirror_mode": {
    "name": "ipython",
    "version": 3
   },
   "file_extension": ".py",
   "mimetype": "text/x-python",
   "name": "python",
   "nbconvert_exporter": "python",
   "pygments_lexer": "ipython3",
   "version": "3.11.9"
  }
 },
 "nbformat": 4,
 "nbformat_minor": 2
}
