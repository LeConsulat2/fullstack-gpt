{
 "cells": [
  {
   "cell_type": "code",
   "execution_count": 20,
   "metadata": {},
   "outputs": [
    {
     "data": {
      "text/plain": [
       "'1. University of Auckland (UOA)\\n2. Auckland University of Technology (AUT)\\n3. University of Canterbury (UC)\\n4. Manukau Institute of Technology (MIT)'"
      ]
     },
     "execution_count": 20,
     "metadata": {},
     "output_type": "execute_result"
    }
   ],
   "source": [
    "from langchain.chat_models import ChatOpenAI\n",
    "from langchain.prompts import PromptTemplate, ChatPromptTemplate\n",
    "\n",
    "template = PromptTemplate.from_template(\"Which university in NZ is the best? not statistically but emotionally amongst {uni_a} {uni_b}, {uni_c}, {uni_d}, make sure to rank in number\")\n",
    "\n",
    "prompt = template.format(uni_a=\"AUT\", uni_b=\"UOA\", uni_c=\"UC\", uni_d=\"MIT\")\n",
    "\n",
    "chat = ChatOpenAI(model_name=\"gpt-3.5-turbo\", temperature=0.1)\n",
    "\n",
    "chat.predict(prompt)\n",
    "\n"
   ]
  },
  {
   "cell_type": "code",
   "execution_count": 21,
   "metadata": {},
   "outputs": [
    {
     "data": {
      "text/plain": [
       "[SystemMessage(content='Which university in NZ is the best? not statistically but emotionally amongst AUT UOA, UC and MIT'),\n",
       " AIMessage(content=''),\n",
       " HumanMessage(content='Please tell me the best university in NZ for high school leavers and mature students')]"
      ]
     },
     "execution_count": 21,
     "metadata": {},
     "output_type": "execute_result"
    }
   ],
   "source": [
    "from langchain.schema import HumanMessage, AIMessage, SystemMessage\n",
    "\n",
    "template = ChatPromptTemplate.from_messages([\n",
    "    (\"system\", \"Which university in NZ is the best? not statistically but emotionally amongst {uni_a} {uni_b}, {uni_c} and {uni_d}\"),\n",
    "    (\"ai\", \"\"),\n",
    "    (\"human\", \"Please tell me the best university in NZ for high school leavers and mature students\")\n",
    "])   \n",
    "\n",
    "prompt = template.format_messages(\n",
    "    uni_a=\"AUT\",\n",
    "    uni_b=\"UOA\",\n",
    "    uni_c=\"UC\",\n",
    "    uni_d=\"MIT\"\n",
    ")   \n",
    "    \n",
    "chat.predict_messages(prompt)    \n",
    "\n",
    "\n"
   ]
  },
  {
   "cell_type": "code",
   "execution_count": 2,
   "metadata": {},
   "outputs": [
    {
     "ename": "NameError",
     "evalue": "name 'messages' is not defined",
     "output_type": "error",
     "traceback": [
      "\u001b[1;31m---------------------------------------------------------------------------\u001b[0m",
      "\u001b[1;31mNameError\u001b[0m                                 Traceback (most recent call last)",
      "Cell \u001b[1;32mIn[2], line 1\u001b[0m\n\u001b[1;32m----> 1\u001b[0m chat\u001b[38;5;241m.\u001b[39mpredict_messages(\u001b[43mmessages\u001b[49m)\n",
      "\u001b[1;31mNameError\u001b[0m: name 'messages' is not defined"
     ]
    }
   ],
   "source": []
  }
 ],
 "metadata": {
  "kernelspec": {
   "display_name": "env",
   "language": "python",
   "name": "python3"
  },
  "language_info": {
   "codemirror_mode": {
    "name": "ipython",
    "version": 3
   },
   "file_extension": ".py",
   "mimetype": "text/x-python",
   "name": "python",
   "nbconvert_exporter": "python",
   "pygments_lexer": "ipython3",
   "version": "3.11.9"
  }
 },
 "nbformat": 4,
 "nbformat_minor": 2
}
