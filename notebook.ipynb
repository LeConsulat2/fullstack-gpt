{
 "cells": [
  {
   "cell_type": "code",
   "execution_count": 3,
   "metadata": {},
   "outputs": [],
   "source": [
    "import subprocess\n",
    "from pydub import AudioSegment\n",
    "import math\n",
    "import os\n",
    "\n",
    "\n",
    "def extract_audio_from_video(video_path, audio_path):\n",
    "    command = [\n",
    "        \"ffmpeg\",\n",
    "        \"-y\",  # 자동으로 덮어쓰기 옵션 추가\n",
    "        \"-i\",\n",
    "        video_path,\n",
    "        \"-vn\",\n",
    "        audio_path,\n",
    "    ]\n",
    "    subprocess.run(command, check=True)\n",
    "\n",
    "\n",
    "def cut_audio_in_chunks(audio_path, chunk_size, chunks_folder):\n",
    "    # 오디오 파일 로드\n",
    "    track = AudioSegment.from_mp3(audio_path)\n",
    "    chunk_length = chunk_size * 60 * 1000  # 청크 길이를 밀리초로 변환\n",
    "    chunks = math.ceil(len(track) / chunk_length)\n",
    "\n",
    "    # 각 청크를 파일로 내보내기\n",
    "    for i in range(chunks):\n",
    "        start_time = i * chunk_length\n",
    "        end_time = (i + 1) * chunk_length\n",
    "        chunk = track[start_time:end_time]\n",
    "        chunk.export(f\"{chunks_folder}/jocoding-gpt_{i + 1:02d}.mp3\", format=\"mp3\")\n",
    "\n",
    "\n",
    "# 오디오 추출\n",
    "video_path = \"./files/jocoding-gpt.mp4\"\n",
    "audio_path = \"./files/jocoding-gpt.mp3\"\n",
    "extract_audio_from_video(video_path, audio_path)\n",
    "\n",
    "# 오디오를 청크로 나누기\n",
    "cut_audio_in_chunks(audio_path, 10, \"./files/chunks\")"
   ]
  }
 ],
 "metadata": {
  "kernelspec": {
   "display_name": "env",
   "language": "python",
   "name": "python3"
  },
  "language_info": {
   "codemirror_mode": {
    "name": "ipython",
    "version": 3
   },
   "file_extension": ".py",
   "mimetype": "text/x-python",
   "name": "python",
   "nbconvert_exporter": "python",
   "pygments_lexer": "ipython3",
   "version": "3.11.9"
  }
 },
 "nbformat": 4,
 "nbformat_minor": 2
}
