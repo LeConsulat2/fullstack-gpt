{
 "cells": [
  {
   "cell_type": "code",
   "execution_count": 1,
   "metadata": {},
   "outputs": [],
   "source": [
    "from langchain.chat_models import ChatOpenAI\n",
    "from langchain.prompts import PromptTemplate, ChatPromptTemplate\n",
    "\n",
    "chat = ChatOpenAI(model_name=\"gpt-3.5-turbo\", temperature=0.1)\n",
    "\n",
    "\n"
   ]
  },
  {
   "cell_type": "code",
   "execution_count": 6,
   "metadata": {},
   "outputs": [
    {
     "data": {
      "text/plain": [
       "AIMessage(content='To make a study application at AUT, you would need to visit the AUT website and navigate to the section for prospective students. There, you can find information on how to apply for your desired program. Typically, you would need to create an account on the AUT online application portal, fill out the application form, upload any required documents (such as academic transcripts, CV, and proof of English proficiency), and pay the application fee if applicable.\\n\\nThe time it takes to receive an offer of place can vary depending on the program you are applying for, the volume of applications being processed, and the time of year. In general, it can take anywhere from a few weeks to a couple of months to receive an offer of place after submitting your application.\\n\\nFor the postgraduate diploma in health science in child health at AUT, the program typically consists of 120 points. This means that students would need to complete a total of 120 points worth of courses to successfully graduate from the program. The exact number of courses and points required may vary slightly depending on the specific courses offered in any given semester, but 120 points is the standard requirement for this program.')"
      ]
     },
     "execution_count": 6,
     "metadata": {},
     "output_type": "execute_result"
    }
   ],
   "source": [
    "from langchain.schema import HumanMessage, AIMessage, SystemMessage\n",
    "\n",
    "messages = [\n",
    "    SystemMessage(content=\"You are a senior student advisor at AUT, you are to explain queries with 10 years of experience knowledge\",\n",
    "                  ),\n",
    "    AIMessage(content=\"\"),\n",
    "    HumanMessage(content=\"How do I make a study application and how long does it take to get the offer of place? Also if student is enrolled into postgraduate diploma in health science in child health, how many points does the student need to complete?, tell me numbers even if its approximate\",),\n",
    "\n",
    "]\n",
    "chat.predict_messages(messages)"
   ]
  },
  {
   "cell_type": "code",
   "execution_count": 2,
   "metadata": {},
   "outputs": [
    {
     "ename": "NameError",
     "evalue": "name 'messages' is not defined",
     "output_type": "error",
     "traceback": [
      "\u001b[1;31m---------------------------------------------------------------------------\u001b[0m",
      "\u001b[1;31mNameError\u001b[0m                                 Traceback (most recent call last)",
      "Cell \u001b[1;32mIn[2], line 1\u001b[0m\n\u001b[1;32m----> 1\u001b[0m chat\u001b[38;5;241m.\u001b[39mpredict_messages(\u001b[43mmessages\u001b[49m)\n",
      "\u001b[1;31mNameError\u001b[0m: name 'messages' is not defined"
     ]
    }
   ],
   "source": []
  }
 ],
 "metadata": {
  "kernelspec": {
   "display_name": "env",
   "language": "python",
   "name": "python3"
  },
  "language_info": {
   "codemirror_mode": {
    "name": "ipython",
    "version": 3
   },
   "file_extension": ".py",
   "mimetype": "text/x-python",
   "name": "python",
   "nbconvert_exporter": "python",
   "pygments_lexer": "ipython3",
   "version": "3.11.9"
  }
 },
 "nbformat": 4,
 "nbformat_minor": 2
}
