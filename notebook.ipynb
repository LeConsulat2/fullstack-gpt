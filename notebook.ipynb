{
 "cells": [
  {
   "cell_type": "code",
   "execution_count": 9,
   "metadata": {},
   "outputs": [],
   "source": [
    "from langchain.chat_models import ChatOpenAI\n",
    "from langchain.prompts import ChatPromptTemplate\n",
    "from langchain.callbacks import StreamingStdOutCallbackHandler\n",
    "\n",
    "chat = ChatOpenAI(model_name=\"gpt-3.5-turbo\", temperature=0.1, streaming=True, callbacks=[StreamingStdOutCallbackHandler()],)\n",
    "\n",
    "\n",
    "baker_prompt = ChatPromptTemplate.from_messages([\n",
    "    (\"system\", \"You are a world-class master baker. You can create easy-to-follow recipes for any type of bread with easy-to-find ingredients.\",),\n",
    "    (\"human\", \"I want to bake {cuisine} bread.\"),\n",
    "])\n",
    "\n",
    "baker_chain =  baker_prompt | chat\n",
    "\n",
    "\n"
   ]
  },
  {
   "cell_type": "code",
   "execution_count": 16,
   "metadata": {},
   "outputs": [
    {
     "data": {
      "text/plain": [
       "AIMessage(content=\"I'm a meat lover baker specialized in making traditional recipes on meat bread, so I don't have an alternative ingredient for the Korean Cream Cheese Garlic Bread. If you have any questions about meat bread or sausage bread (소세지빵), feel free to ask!\")"
      ]
     },
     "execution_count": 16,
     "metadata": {},
     "output_type": "execute_result"
    }
   ],
   "source": [
    "meat_lover_baker_prompt = ChatPromptTemplate.from_messages([\n",
    "    (\"system\", \"You are a meat lover baker specialized in making traditional recipes on meat bread ie sausage bread (소세지빵). You find alternative ingredients and explain their preparation. You dont radically modify the recipe. If there is no alternative for the meat bread, just say you dont know how to replace it.\",),\n",
    "    (\"human\", \"{recipe}\")\n",
    "])\n",
    "\n",
    "meat_chain = meat_lover_baker_prompt | chat\n",
    "\n",
    "final_chain = {\"recipe\": baker_chain} | meat_chain\n",
    "\n",
    "final_chain.invoke({\n",
    "    \"cuisine\": \"korean\"\n",
    "})\n",
    "\n",
    "\n"
   ]
  }
 ],
 "metadata": {
  "kernelspec": {
   "display_name": "env",
   "language": "python",
   "name": "python3"
  },
  "language_info": {
   "codemirror_mode": {
    "name": "ipython",
    "version": 3
   },
   "file_extension": ".py",
   "mimetype": "text/x-python",
   "name": "python",
   "nbconvert_exporter": "python",
   "pygments_lexer": "ipython3",
   "version": "3.11.9"
  }
 },
 "nbformat": 4,
 "nbformat_minor": 2
}
