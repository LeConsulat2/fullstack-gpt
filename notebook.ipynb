{
 "cells": [
  {
   "cell_type": "code",
   "execution_count": null,
   "metadata": {},
   "outputs": [],
   "source": [
    "import subprocess\n",
    "from pydub import AudioSegment\n",
    "import math\n",
    "import os\n",
    "\n",
    "\n",
    "def extract_audio_from_video(video_path, audio_path):\n",
    "    command = [\n",
    "        \"ffmpeg\",\n",
    "        \"-y\",  # 자동으로 덮어쓰기 옵션 추가\n",
    "        \"-i\",\n",
    "        video_path,\n",
    "        \"-vn\",\n",
    "        audio_path,\n",
    "    ]\n",
    "    subprocess.run(command, check=True)\n",
    "\n",
    "\n",
    "# 오디오 추출\n",
    "video_path = \"./files/jocoding-gpt.mp4\"\n",
    "audio_path = \"./files/jocoding-gpt.mp3\"\n",
    "extract_audio_from_video(video_path, audio_path)\n",
    "\n",
    "# 오디오 파일 로드\n",
    "track = AudioSegment.from_mp3(audio_path)\n",
    "\n",
    "# 청크 길이 정의 (10분)\n",
    "ten_minutes = 10 * 60 * 1000\n",
    "\n",
    "# 청크 개수 계산\n",
    "chunks = math.ceil(len(track) / ten_minutes)\n",
    "\n",
    "# 청크 디렉토리 생성\n",
    "chunks_dir = \"./files/chunks\"\n",
    "os.makedirs(chunks_dir, exist_ok=True)\n",
    "\n",
    "# 각 청크를 파일로 내보내기\n",
    "for i in range(chunks):\n",
    "    start_time = i * ten_minutes\n",
    "    end_time = (i + 1) * ten_minutes\n",
    "    chunk = track[start_time:end_time]\n",
    "    chunk_filename = f\"jocoding-gpt_{i + 1:02d}.mp3\"\n",
    "    chunk_path = os.path.join(chunks_dir, chunk_filename)\n",
    "    chunk.export(chunk_path, format=\"mp3\")"
   ]
  }
 ],
 "metadata": {
  "kernelspec": {
   "display_name": "env",
   "language": "python",
   "name": "python3"
  },
  "language_info": {
   "codemirror_mode": {
    "name": "ipython",
    "version": 3
   },
   "file_extension": ".py",
   "mimetype": "text/x-python",
   "name": "python",
   "nbconvert_exporter": "python",
   "pygments_lexer": "ipython3",
   "version": "3.11.9"
  }
 },
 "nbformat": 4,
 "nbformat_minor": 2
}
