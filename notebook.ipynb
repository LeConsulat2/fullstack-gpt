{
 "cells": [
  {
   "cell_type": "code",
   "execution_count": 17,
   "metadata": {},
   "outputs": [],
   "source": [
    "from langchain.chat_models import ChatOpenAI\n",
    "from langchain.prompts import ChatPromptTemplate\n",
    "from langchain.callbacks import StreamingStdOutCallbackHandler\n",
    "\n",
    "chat = ChatOpenAI(model_name=\"gpt-3.5-turbo\", temperature=0.1, streaming=True, callbacks=[StreamingStdOutCallbackHandler()],)\n",
    "\n",
    "\n",
    "baker_prompt = ChatPromptTemplate.from_messages([\n",
    "    (\"system\", \"You are a world-class master baker. You can create easy-to-follow recipes for any type of bread with easy-to-find ingredients.\",),\n",
    "    (\"human\", \"I want to bake {cuisine} bread.\"),\n",
    "])\n",
    "\n",
    "baker_chain =  baker_prompt | chat\n",
    "\n",
    "\n"
   ]
  },
  {
   "cell_type": "code",
   "execution_count": 18,
   "metadata": {},
   "outputs": [
    {
     "name": "stdout",
     "output_type": "stream",
     "text": [
      "Korean bread is known for its soft and fluffy texture, often filled with sweet or savory fillings. One popular Korean bread is the \"Hodduk,\" a sweet and gooey pancake-like bread filled with a brown sugar and nut filling. Here's a simple recipe for you to try at home:\n",
      "\n",
      "Ingredients:\n",
      "- 2 cups all-purpose flour\n",
      "- 1 packet (2 1/4 tsp) instant yeast\n",
      "- 1/4 cup sugar\n",
      "- 1/2 tsp salt\n",
      "- 1 cup warm milk\n",
      "- 2 tbsp melted butter\n",
      "- 1/2 cup brown sugar\n",
      "- 1/4 cup chopped nuts (such as walnuts or pecans)\n",
      "- Vegetable oil for frying\n",
      "\n",
      "Instructions:\n",
      "1. In a large mixing bowl, combine the flour, instant yeast, sugar, and salt. Mix well.\n",
      "2. Gradually add the warm milk and melted butter to the dry ingredients. Mix until a dough forms.\n",
      "3. Knead the dough on a floured surface for about 5-7 minutes, until it becomes smooth and elastic.\n",
      "4. Place the dough in a greased bowl, cover with a clean kitchen towel, and let it rise in a warm place for about 1 hour, or until doubled in size.\n",
      "5. In a small bowl, mix together the brown sugar and chopped nuts to make the filling.\n",
      "6. Punch down the risen dough and divide it into small balls, about the size of a golf ball.\n",
      "7. Flatten each dough ball into a small circle and place a spoonful of the brown sugar and nut filling in the center.\n",
      "8. Pinch the edges of the dough together to seal the filling inside.\n",
      "9. Heat some vegetable oil in a frying pan over medium heat.\n",
      "10. Place the filled dough balls in the pan and cook for 2-3 minutes on each side, until golden brown and cooked through.\n",
      "11. Remove the Hodduk from the pan and let them cool slightly before serving.\n",
      "\n",
      "Enjoy your homemade Korean Hodduk bread!I'm a meat lover baker, so I specialize in making traditional recipes with meat fillings. Unfortunately, I don't have a suitable alternative ingredient for the meat in the sausage bread (소세지빵) recipe. Meat is a key component in this savory bread, and its unique flavor and texture are hard to replicate with other ingredients. If you have any other questions or need help with a different recipe, feel free to ask!"
     ]
    },
    {
     "data": {
      "text/plain": [
       "AIMessageChunk(content=\"I'm a meat lover baker, so I specialize in making traditional recipes with meat fillings. Unfortunately, I don't have a suitable alternative ingredient for the meat in the sausage bread (소세지빵) recipe. Meat is a key component in this savory bread, and its unique flavor and texture are hard to replicate with other ingredients. If you have any other questions or need help with a different recipe, feel free to ask!\")"
      ]
     },
     "execution_count": 18,
     "metadata": {},
     "output_type": "execute_result"
    }
   ],
   "source": [
    "meat_lover_baker_prompt = ChatPromptTemplate.from_messages([\n",
    "    (\"system\", \"You are a meat lover baker specialized in making traditional recipes on meat bread ie sausage bread (소세지빵). You find alternative ingredients and explain their preparation. You dont radically modify the recipe. If there is no alternative for the meat bread, just say you dont know how to replace it.\",),\n",
    "    (\"human\", \"{recipe}\",)\n",
    "])\n",
    "\n",
    "meat_chain = meat_lover_baker_prompt | chat\n",
    "\n",
    "final_chain = {\"recipe\": baker_chain} | meat_chain\n",
    "\n",
    "final_chain.invoke({\n",
    "    \"cuisine\": \"korean\"\n",
    "})\n",
    "\n",
    "\n"
   ]
  }
 ],
 "metadata": {
  "kernelspec": {
   "display_name": "env",
   "language": "python",
   "name": "python3"
  },
  "language_info": {
   "codemirror_mode": {
    "name": "ipython",
    "version": 3
   },
   "file_extension": ".py",
   "mimetype": "text/x-python",
   "name": "python",
   "nbconvert_exporter": "python",
   "pygments_lexer": "ipython3",
   "version": "3.11.9"
  }
 },
 "nbformat": 4,
 "nbformat_minor": 2
}
