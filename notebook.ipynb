{
 "cells": [
  {
   "cell_type": "code",
   "execution_count": 1,
   "metadata": {},
   "outputs": [],
   "source": [
    "from langchain.chat_models import ChatOpenAI\n",
    "from langchain.prompts import PromptTemplate, ChatPromptTemplate\n",
    "\n",
    "chat = ChatOpenAI(model_name=\"gpt-3.5-turbo\", temperature=0.1)\n",
    "\n",
    "\n"
   ]
  },
  {
   "cell_type": "code",
   "execution_count": 5,
   "metadata": {},
   "outputs": [
    {
     "data": {
      "text/plain": [
       "AIMessage(content='To make a study application at AUT, you would need to visit the AUT website and navigate to the \"Apply Now\" section. There, you can select the program you are interested in and follow the application instructions provided. You will typically need to create an account, complete the online application form, submit the required documents (such as academic transcripts, CV, and references), and pay the application fee if applicable.\\n\\nThe time it takes to receive an offer of place can vary depending on the program you are applying for and the volume of applications being processed. In general, it can take anywhere from a few weeks to a couple of months to receive an offer of place. It is important to submit your application well before the deadline to allow for processing time.\\n\\nFor the postgraduate diploma in health science in child health at AUT, the number of points required to complete the program would typically be around 120 points. This is equivalent to one year of full-time study. The specific point requirements may vary depending on the courses included in the program and any individualized study plans. It is recommended to check the AUT website or contact the program coordinator for the most up-to-date information on program requirements.')"
      ]
     },
     "execution_count": 5,
     "metadata": {},
     "output_type": "execute_result"
    }
   ],
   "source": [
    "from langchain.schema import HumanMessage, AIMessage, SystemMessage\n",
    "\n",
    "messages = [\n",
    "    SystemMessage(content=\"You are a senior student advisor at AUT, you are to explain queries with 10 years of experience knowledge\",\n",
    "                  ),\n",
    "    AIMessage(content=\"\"),\n",
    "    HumanMessage(content=\"How do I make a study application and how long does it take to get the offer of place? Also if student is enrolled into postgraduate diploma in health science in child health, how many points does the student need to complete?\",),\n",
    "\n",
    "]\n",
    "chat.predict_messages(messages)"
   ]
  },
  {
   "cell_type": "code",
   "execution_count": 2,
   "metadata": {},
   "outputs": [
    {
     "ename": "NameError",
     "evalue": "name 'messages' is not defined",
     "output_type": "error",
     "traceback": [
      "\u001b[1;31m---------------------------------------------------------------------------\u001b[0m",
      "\u001b[1;31mNameError\u001b[0m                                 Traceback (most recent call last)",
      "Cell \u001b[1;32mIn[2], line 1\u001b[0m\n\u001b[1;32m----> 1\u001b[0m chat\u001b[38;5;241m.\u001b[39mpredict_messages(\u001b[43mmessages\u001b[49m)\n",
      "\u001b[1;31mNameError\u001b[0m: name 'messages' is not defined"
     ]
    }
   ],
   "source": []
  }
 ],
 "metadata": {
  "kernelspec": {
   "display_name": "env",
   "language": "python",
   "name": "python3"
  },
  "language_info": {
   "codemirror_mode": {
    "name": "ipython",
    "version": 3
   },
   "file_extension": ".py",
   "mimetype": "text/x-python",
   "name": "python",
   "nbconvert_exporter": "python",
   "pygments_lexer": "ipython3",
   "version": "3.11.9"
  }
 },
 "nbformat": 4,
 "nbformat_minor": 2
}
