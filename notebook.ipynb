{
 "cells": [
  {
   "cell_type": "code",
   "execution_count": 2,
   "metadata": {},
   "outputs": [],
   "source": [
    "import subprocess\n",
    "from pydub import AudioSegment\n",
    "import math\n",
    "\n",
    "\n",
    "# Function to extract audio from video\n",
    "def extract_audio_from_video(video_path, audio_path):\n",
    "    command = [\n",
    "        \"ffmpeg\",\n",
    "        \"-i\",\n",
    "        video_path,\n",
    "        \"-vn\",\n",
    "        audio_path,\n",
    "    ]\n",
    "    subprocess.run(command)\n",
    "\n",
    "\n",
    "# Path to the video file\n",
    "video_path = \"./files/jocoding-gpt.mp4\"\n",
    "# Path to save the extracted audio file\n",
    "audio_path = \"./files/jocoding-gpt.mp3\"\n",
    "\n",
    "# Extract audio from the video file\n",
    "extract_audio_from_video(video_path, audio_path)\n",
    "\n",
    "# Load the extracted audio file\n",
    "track = AudioSegment.from_mp3(audio_path)\n",
    "\n",
    "# Define 10 minutes in milliseconds\n",
    "ten_minutes = 10 * 60 * 1000\n",
    "\n",
    "# Calculate the number of chunks\n",
    "chunks = math.ceil(len(track) / ten_minutes)\n",
    "\n",
    "# Export chunks of audio\n",
    "for i in range(chunks):\n",
    "    start_time = i * ten_minutes\n",
    "    end_time = (i + 1) * ten_minutes\n",
    "\n",
    "    chunk = track[start_time:end_time]\n",
    "\n",
    "    # Export each chunk as a separate mp3 file\n",
    "    chunk.export(f\"./files/chunks/chunk_{i}.mp3\", format=\"mp3\")"
   ]
  }
 ],
 "metadata": {
  "kernelspec": {
   "display_name": "env",
   "language": "python",
   "name": "python3"
  },
  "language_info": {
   "codemirror_mode": {
    "name": "ipython",
    "version": 3
   },
   "file_extension": ".py",
   "mimetype": "text/x-python",
   "name": "python",
   "nbconvert_exporter": "python",
   "pygments_lexer": "ipython3",
   "version": "3.11.9"
  }
 },
 "nbformat": 4,
 "nbformat_minor": 2
}
