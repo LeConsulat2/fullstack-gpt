{
 "cells": [
  {
   "cell_type": "code",
   "execution_count": 9,
   "metadata": {},
   "outputs": [
    {
     "name": "stdout",
     "output_type": "stream",
     "text": [
      "AUT's Recognition of Prior Learning (RPL) process allows students to gain credit for their previous learning and experience, which may have been gained through work experience, formal study, or other means. This process is designed to recognize and acknowledge the skills and knowledge that students have already acquired, and to provide them with a pathway to further study or qualification.\n",
      "\n",
      "The RPL process at AUT involves the assessment of a student's prior learning against the learning outcomes of a specific course or qualification. This assessment is typically carried out by a designated RPL assessor, who will review the evidence provided by the student and determine whether it meets the required standards.\n",
      "\n",
      "Students applying for RPL at AUT may be required to provide a range of evidence to support their application, such as work samples, references, qualifications, or a portfolio of work. The assessment process may also involve an interview or other forms of assessment to determine the student's level of knowledge and skills.\n",
      "\n",
      "Overall, the RPL process at AUT is designed to be flexible and inclusive, allowing students to demonstrate their learning in a variety of ways and to gain credit for their prior experience and knowledge. This can help students to fast-track their studies, reduce duplication of learning, and achieve their qualifications more quickly and efficiently."
     ]
    },
    {
     "data": {
      "text/plain": [
       "\"AUT's Recognition of Prior Learning (RPL) process allows students to gain credit for their previous learning and experience, which may have been gained through work experience, formal study, or other means. This process is designed to recognize and acknowledge the skills and knowledge that students have already acquired, and to provide them with a pathway to further study or qualification.\\n\\nThe RPL process at AUT involves the assessment of a student's prior learning against the learning outcomes of a specific course or qualification. This assessment is typically carried out by a designated RPL assessor, who will review the evidence provided by the student and determine whether it meets the required standards.\\n\\nStudents applying for RPL at AUT may be required to provide a range of evidence to support their application, such as work samples, references, qualifications, or a portfolio of work. The assessment process may also involve an interview or other forms of assessment to determine the student's level of knowledge and skills.\\n\\nOverall, the RPL process at AUT is designed to be flexible and inclusive, allowing students to demonstrate their learning in a variety of ways and to gain credit for their prior experience and knowledge. This can help students to fast-track their studies, reduce duplication of learning, and achieve their qualifications more quickly and efficiently.\""
      ]
     },
     "execution_count": 9,
     "metadata": {},
     "output_type": "execute_result"
    }
   ],
   "source": [
    "from langchain.chat_models import ChatOpenAI\n",
    "from langchain.prompts import PromptTemplate\n",
    "from langchain.prompts.few_shot import FewShotPromptTemplate\n",
    "from langchain.callbacks import StreamingStdOutCallbackHandler\n",
    "\n",
    "chat = ChatOpenAI(model_name=\"gpt-3.5-turbo\", temperature=0.1, streaming=True, callbacks=[StreamingStdOutCallbackHandler()],)\n",
    "\n",
    "t = PromptTemplate(\n",
    "  template=\"What is the capital of {country}\",\n",
    "  input_variables=[\"country\"],\n",
    " )\n",
    "\n",
    "t.format(country=\"NZ\")\n",
    "\n",
    "{\n",
    "    \"question\": \"What do you know about the RPL process at AUT?\",\n",
    "    \"answer\": \"\"\"\n",
    "    I know this:\n",
    "    - Fee: $100\n",
    "    - Documents: Official transcripts, course descriptors, RPL form\n",
    "    - Limits: Differs by programme and level. Refer to each programme calendar for specific limits. Typically, a 5-year limit applies.\n",
    "    - Assessment Length: Generally within 4 weeks\n",
    "    \"\"\"\n",
    "}\n",
    "\n",
    "\n",
    "\n",
    "example_template = \"\"\"\n",
    "    Human: {question}\n",
    "    AI: {answer}\n",
    "\"\"\"\n",
    "\n",
    "example_prompt = PromptTemplate.from_template(example_template)\n"
   ]
  },
  {
   "cell_type": "code",
   "execution_count": 3,
   "metadata": {},
   "outputs": [
    {
     "name": "stdout",
     "output_type": "stream",
     "text": [
      "Japanese milk bread, also known as Hokkaido milk bread, is a soft and fluffy bread that is perfect for sandwiches or simply enjoyed on its own. Here's a simple recipe for you to try at home:\n",
      "\n",
      "Ingredients:\n",
      "- 2 1/2 cups bread flour\n",
      "- 1/4 cup sugar\n",
      "- 1 teaspoon salt\n",
      "- 2 1/4 teaspoons instant yeast\n",
      "- 1/2 cup warm milk\n",
      "- 1/4 cup warm water\n",
      "- 1/4 cup unsalted butter, softened\n",
      "- 1 egg, beaten\n",
      "- Egg wash (1 egg beaten with 1 tablespoon water)\n",
      "- Optional: sesame seeds for topping\n",
      "\n",
      "Instructions:\n",
      "1. In a large mixing bowl, combine the bread flour, sugar, salt, and instant yeast. Mix well.\n",
      "2. Add the warm milk, warm water, softened butter, and beaten egg to the dry ingredients. Mix until a dough forms.\n",
      "3. Knead the dough on a lightly floured surface for about 10-15 minutes, or until the dough is smooth and elastic.\n",
      "4. Place the dough in a greased bowl, cover with a clean kitchen towel, and let it rise in a warm place for about 1-2 hours, or until doubled in size.\n",
      "5. Punch down the dough to release the air, then divide it into equal portions and shape them into balls.\n",
      "6. Place the dough balls in a greased loaf pan, cover with a kitchen towel, and let them rise for another 1-2 hours, or until they have doubled in size.\n",
      "7. Preheat your oven to 350°F (180°C).\n",
      "8. Brush the risen dough with the egg wash and sprinkle sesame seeds on top, if desired.\n",
      "9. Bake the bread in the preheated oven for 25-30 minutes, or until golden brown and cooked through.\n",
      "10. Remove the bread from the oven and let it cool in the pan for a few minutes before transferring it to a wire rack to cool completely.\n",
      "\n",
      "Enjoy your homemade Japanese milk bread!I'm a meat lover baker, so I specialize in making traditional recipes with meat. While Japanese milk bread is delicious on its own, I don't have an alternative ingredient to replace the meat in this recipe. If you're interested in trying out a meat bread recipe like sausage bread (소세지빵), I'd be happy to share that with you! Just let me know."
     ]
    },
    {
     "data": {
      "text/plain": [
       "AIMessageChunk(content=\"I'm a meat lover baker, so I specialize in making traditional recipes with meat. While Japanese milk bread is delicious on its own, I don't have an alternative ingredient to replace the meat in this recipe. If you're interested in trying out a meat bread recipe like sausage bread (소세지빵), I'd be happy to share that with you! Just let me know.\")"
      ]
     },
     "execution_count": 3,
     "metadata": {},
     "output_type": "execute_result"
    }
   ],
   "source": [
    "\n"
   ]
  }
 ],
 "metadata": {
  "kernelspec": {
   "display_name": "env",
   "language": "python",
   "name": "python3"
  },
  "language_info": {
   "codemirror_mode": {
    "name": "ipython",
    "version": 3
   },
   "file_extension": ".py",
   "mimetype": "text/x-python",
   "name": "python",
   "nbconvert_exporter": "python",
   "pygments_lexer": "ipython3",
   "version": "3.11.9"
  }
 },
 "nbformat": 4,
 "nbformat_minor": 2
}
