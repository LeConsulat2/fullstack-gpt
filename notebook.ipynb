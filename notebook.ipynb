{
 "cells": [
  {
   "cell_type": "code",
   "execution_count": 5,
   "metadata": {},
   "outputs": [
    {
     "name": "stderr",
     "output_type": "stream",
     "text": [
      "Created a chunk of size 608, which is longer than the specified 600\n"
     ]
    },
    {
     "data": {
      "text/plain": [
       "[Document(page_content='BAU Report: Student Hub May 2024\\nExecutive Summary\\nThe Directorate focused on evaluating practices and operational models, responding to increased referrals of students with complex needs, and supporting students academically. The team participated in planning sessions, professional development, and training, with some staff taking annual leave. The Transition programme for Semester 1 concluded, with a new design for Semester 2 underway. Staff changes continued due to parental leave and career progression. Activity dashboards are being rebuilt and will be operational next month.', metadata={'source': './files/BAU_Report_May.docx'}),\n",
       " Document(page_content='Key Activities and Achievements\\nPathway Case Management\\nA practice guide was deployed, and pathway managers are meeting with students under the leadership of Hayden. This initiative is currently in progress.\\nFinancial Hardship\\nThe financial assistance process was reviewed under the leadership of Cecilia and is in progress. The project for voucher and audit automation is currently on hold.\\nStudent Hub/Student Admin Improvements', metadata={'source': './files/BAU_Report_May.docx'}),\n",
       " Document(page_content='Student Hub/Student Admin Improvements\\nThe Studylink joint project aimed at updating knowledge base articles is on hold. Workshops for relationship building have been rescheduled for 2024, with Cecilia and Lavinia leading this effort, currently delayed. The draft practice guide for the confirmation of enrolment is completed, with Catherine, Cecilia, Elberta, and the Student Administration team leading this project, which is in progress.\\nPrint Services Procurement Review\\nThis AUT-wide project is led by Cecilia and is awaiting updates, currently in progress.\\nID Cards', metadata={'source': './files/BAU_Report_May.docx'}),\n",
       " Document(page_content='This AUT-wide project is led by Cecilia and is awaiting updates, currently in progress.\\nID Cards\\nThe digitisation project, managed by TMO, is led by Cecilia and is in progress.\\nDomestic Under18s\\nSafety and wellbeing practices for domestic under-18 students were reviewed under the leadership of Corinne, and this project is in progress.\\nHub Operations and Projects', metadata={'source': './files/BAU_Report_May.docx'}),\n",
       " Document(page_content='Hub Operations and Projects\\nOperations projects include hub channels, DSS, and Rainbow initiatives, led by Cecilia, Catherine, and Andy, which are in progress. The decision not to progress the Student Hub web enquiry form was made, with a focus on process improvements led by Cecilia, Nikki, and Liz.\\nAlternative to Group Supervision\\nGroup supervision for advisors is ongoing under the leadership of Brandon.\\nSpecialist Cohort Support', metadata={'source': './files/BAU_Report_May.docx'}),\n",
       " Document(page_content='Group supervision for advisors is ongoing under the leadership of Brandon.\\nSpecialist Cohort Support\\nFor Disability Support, onboarding new and returning students is led by Anna and is in progress. The Adaptive Technology Lab review, led by Charlotte and Anna, and the process redesign involving PowerBI reporting are both in progress. The Disability Workplan project, led by Anna, and summary resource requests for new students, led by Rosemary, are also in progress.\\nNew Improvements', metadata={'source': './files/BAU_Report_May.docx'}),\n",
       " Document(page_content='New Improvements\\nCanvas access improvements by the Resource Team have been completed. The business case for material access improvements, led by Rosemary, is in progress. Holiday pay calculations for staff, led by Rosemary, have achieved payment, with the query ongoing.\\nNew Processes', metadata={'source': './files/BAU_Report_May.docx'}),\n",
       " Document(page_content='The triage process for new DSS students, led by Corinne and Rosemary, has been completed. Test exam readiness, led by Corinne and Rosemary, is also completed. The DSS resource request automation review, led by Rosemary and N Daley-Jones, is in progress with priority. The confidentiality and privacy form completion by the Resource Team is completed. A compulsory training session request for SAR, led by Jo Wilkins and Rosemary, is in progress. An online presentation to DSS Advisors, led by Julie and Rosemary, has been completed. The international student support review by the Resource Team is completed.', metadata={'source': './files/BAU_Report_May.docx'}),\n",
       " Document(page_content='International Support\\nFaculty engagement with workshops and presentations is ongoing under the leadership of Elberta. University-wide engagement with ISANA updates and collaborations, led by Elberta, and regular meetings and feedback discussions with AUTSA, led by Elberta and Cecilia, are ongoing. English Language Support has been reinstated, with cooperation from ELC, Admissions, SIA, and International Student Support under the leadership of Elberta. The International Students and Medications document is awaiting activation by Elberta.\\nRainbow', metadata={'source': './files/BAU_Report_May.docx'}),\n",
       " Document(page_content='Rainbow\\nPride Month 2024 initiatives and planning are ongoing under the leadership of Jessie and Nica.\\nIssues/Risks\\nIncreased wait times for student appointments are being addressed with the training of new advisors and an increase in appointments. The monthly Korero is pending. A dust particles issue in the City Hub has been logged with Shield and Estates. A security incident in the Rainbow space was escalated and handled.\\nRecruitment/Resignations/Transfers Update', metadata={'source': './files/BAU_Report_May.docx'}),\n",
       " Document(page_content='Recruitment/Resignations/Transfers Update\\nSophie Nagel resigned effective 23 May. Eleanor Poutaka is on parental leave effective 23 April. Yvette Brown resigned effective 8 May. Laxshna Akilakumar has a fixed-term appointment effective 20 May. Recruitment is underway for DSS, city, and north roles.\\nStudent Transition and Retention', metadata={'source': './files/BAU_Report_May.docx'}),\n",
       " Document(page_content='Student Transition and Retention\\nKey activities include the Debtors Campaign and Applicant Conversion by the Student Connect/Peer Advisors Team, with ongoing phone cover provided by the Student Hub on 23 May. The RUOK campaign is engaging students around stress and sickness, focusing on fee payments and application conversion for Semester 2.\\nOrientation\\nPreparations for Semester 2 include a new event format and sensory-friendly initiatives, with the communications plan updated and details sent out.\\nNew Student Transition', metadata={'source': './files/BAU_Report_May.docx'}),\n",
       " Document(page_content=\"New Student Transition\\nSemester 2 events include orientation tours and Community Connect events. Student Ambassadors' orientation training has been refreshed, with improvements and planning for AUT Live.\\nStaffing/Recruitment Update\\nJobs for permanent roles such as Transition Advisor and Peer Programme Advisor are being logged.\\nStudent Hub Activity\\nActivity details for the phone channel, financial assistance, laptop provision, and support intervention are logged by severity.\", metadata={'source': './files/BAU_Report_May.docx'}),\n",
       " Document(page_content='This report summarizes the key activities, achievements, and ongoing projects within the Student Hub for May 2024, highlighting service improvements, staff development, and student support initiatives.', metadata={'source': './files/BAU_Report_May.docx'})]"
      ]
     },
     "execution_count": 5,
     "metadata": {},
     "output_type": "execute_result"
    }
   ],
   "source": [
    "from langchain.chat_models import ChatOpenAI\n",
    "from langchain.document_loaders import UnstructuredFileLoader\n",
    "from langchain.text_splitter import CharacterTextSplitter #RecursiveCharacterTextSplitter\n",
    "\n",
    "# Initialize the text splitter\n",
    "splitter = CharacterTextSplitter(\n",
    "    separator=\"\\n\",\n",
    "    chunk_size=600,\n",
    "    chunk_overlap=100,\n",
    "    length_function=len,\n",
    ")\n",
    "\n",
    "# Initialize the document loader\n",
    "loader = UnstructuredFileLoader(\"./files/BAU_Report_May.docx\")\n",
    "\n",
    "# Load the document and split it into chunks\n",
    "loader.load_and_split(text_splitter=splitter)\n",
    "\n",
    "\n"
   ]
  }
 ],
 "metadata": {
  "kernelspec": {
   "display_name": "env",
   "language": "python",
   "name": "python3"
  },
  "language_info": {
   "codemirror_mode": {
    "name": "ipython",
    "version": 3
   },
   "file_extension": ".py",
   "mimetype": "text/x-python",
   "name": "python",
   "nbconvert_exporter": "python",
   "pygments_lexer": "ipython3",
   "version": "3.11.9"
  }
 },
 "nbformat": 4,
 "nbformat_minor": 2
}
