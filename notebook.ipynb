{
 "cells": [
  {
   "cell_type": "code",
   "execution_count": 8,
   "metadata": {},
   "outputs": [],
   "source": [
    "from langchain.chat_models import ChatOpenAI\n",
    "from langchain.document_loaders import UnstructuredFileLoader\n",
    "from langchain.text_splitter import CharacterTextSplitter\n",
    "from langchain.embeddings import OpenAIEmbeddings, CacheBackedEmbeddings\n",
    "from langchain.vectorstores import Chroma\n",
    "from langchain.storage import LocalFileStore\n",
    "\n",
    "cache_dir = LocalFileStore(\"./.cache\")\n",
    "\n",
    "\n",
    "splitter = CharacterTextSplitter.from_tiktoken_encoder(\n",
    "    separator=\"\\n\",\n",
    "    chunk_size=300,\n",
    "    chunk_overlap=30,\n",
    ")\n",
    "\n",
    "loader = UnstructuredFileLoader(\"./files/BAU_Report_May.docx\")\n",
    "\n",
    "docs = loader.load_and_split(text_splitter=splitter)\n",
    "\n",
    "embeddings = OpenAIEmbeddings()\n",
    "\n",
    "cached_embeddings = CacheBackedEmbeddings.from_bytes_store(\n",
    "    embeddings, cache_dir\n",
    ")\n",
    "\n",
    "vectorstore = Chroma.from_documents(docs, cached_embeddings)\n"
   ]
  },
  {
   "cell_type": "code",
   "execution_count": 7,
   "metadata": {},
   "outputs": [
    {
     "data": {
      "text/plain": [
       "[Document(page_content='New Improvements\\nCanvas access improvements by the Resource Team have been completed. The business case for material access improvements, led by Rosemary, is in progress. Holiday pay calculations for staff, led by Rosemary, have achieved payment, with the query ongoing.\\nNew Processes\\nThe triage process for new DSS students, led by Corinne and Rosemary, has been completed. Test exam readiness, led by Corinne and Rosemary, is also completed. The DSS resource request automation review, led by Rosemary and N Daley-Jones, is in progress with priority. The confidentiality and privacy form completion by the Resource Team is completed. A compulsory training session request for SAR, led by Jo Wilkins and Rosemary, is in progress. An online presentation to DSS Advisors, led by Julie and Rosemary, has been completed. The international student support review by the Resource Team is completed.\\nInternational Support\\nFaculty engagement with workshops and presentations is ongoing under the leadership of Elberta. University-wide engagement with ISANA updates and collaborations, led by Elberta, and regular meetings and feedback discussions with AUTSA, led by Elberta and Cecilia, are ongoing. English Language Support has been reinstated, with cooperation from ELC, Admissions, SIA, and International Student Support under the leadership of Elberta. The International Students and Medications document is awaiting activation by Elberta.\\nRainbow', metadata={'source': './files/BAU_Report_May.docx'}),\n",
       " Document(page_content='New Improvements\\nCanvas access improvements by the Resource Team have been completed. The business case for material access improvements, led by Rosemary, is in progress. Holiday pay calculations for staff, led by Rosemary, have achieved payment, with the query ongoing.\\nNew Processes\\nThe triage process for new DSS students, led by Corinne and Rosemary, has been completed. Test exam readiness, led by Corinne and Rosemary, is also completed. The DSS resource request automation review, led by Rosemary and N Daley-Jones, is in progress with priority. The confidentiality and privacy form completion by the Resource Team is completed. A compulsory training session request for SAR, led by Jo Wilkins and Rosemary, is in progress. An online presentation to DSS Advisors, led by Julie and Rosemary, has been completed. The international student support review by the Resource Team is completed.\\nInternational Support\\nFaculty engagement with workshops and presentations is ongoing under the leadership of Elberta. University-wide engagement with ISANA updates and collaborations, led by Elberta, and regular meetings and feedback discussions with AUTSA, led by Elberta and Cecilia, are ongoing. English Language Support has been reinstated, with cooperation from ELC, Admissions, SIA, and International Student Support under the leadership of Elberta. The International Students and Medications document is awaiting activation by Elberta.\\nRainbow', metadata={'source': './files/BAU_Report_May.docx'}),\n",
       " Document(page_content='Print Services Procurement Review\\nThis AUT-wide project is led by Cecilia and is awaiting updates, currently in progress.\\nID Cards\\nThe digitisation project, managed by TMO, is led by Cecilia and is in progress.\\nDomestic Under18s\\nSafety and wellbeing practices for domestic under-18 students were reviewed under the leadership of Corinne, and this project is in progress.\\nHub Operations and Projects\\nOperations projects include hub channels, DSS, and Rainbow initiatives, led by Cecilia, Catherine, and Andy, which are in progress. The decision not to progress the Student Hub web enquiry form was made, with a focus on process improvements led by Cecilia, Nikki, and Liz.\\nAlternative to Group Supervision\\nGroup supervision for advisors is ongoing under the leadership of Brandon.\\nSpecialist Cohort Support\\nFor Disability Support, onboarding new and returning students is led by Anna and is in progress. The Adaptive Technology Lab review, led by Charlotte and Anna, and the process redesign involving PowerBI reporting are both in progress. The Disability Workplan project, led by Anna, and summary resource requests for new students, led by Rosemary, are also in progress.\\nNew Improvements', metadata={'source': './files/BAU_Report_May.docx'}),\n",
       " Document(page_content='Print Services Procurement Review\\nThis AUT-wide project is led by Cecilia and is awaiting updates, currently in progress.\\nID Cards\\nThe digitisation project, managed by TMO, is led by Cecilia and is in progress.\\nDomestic Under18s\\nSafety and wellbeing practices for domestic under-18 students were reviewed under the leadership of Corinne, and this project is in progress.\\nHub Operations and Projects\\nOperations projects include hub channels, DSS, and Rainbow initiatives, led by Cecilia, Catherine, and Andy, which are in progress. The decision not to progress the Student Hub web enquiry form was made, with a focus on process improvements led by Cecilia, Nikki, and Liz.\\nAlternative to Group Supervision\\nGroup supervision for advisors is ongoing under the leadership of Brandon.\\nSpecialist Cohort Support\\nFor Disability Support, onboarding new and returning students is led by Anna and is in progress. The Adaptive Technology Lab review, led by Charlotte and Anna, and the process redesign involving PowerBI reporting are both in progress. The Disability Workplan project, led by Anna, and summary resource requests for new students, led by Rosemary, are also in progress.\\nNew Improvements', metadata={'source': './files/BAU_Report_May.docx'})]"
      ]
     },
     "execution_count": 7,
     "metadata": {},
     "output_type": "execute_result"
    }
   ],
   "source": [
    "results = vectorstore.similarity_search(\"disability support\")\n",
    "\n",
    "results"
   ]
  }
 ],
 "metadata": {
  "kernelspec": {
   "display_name": "env",
   "language": "python",
   "name": "python3"
  },
  "language_info": {
   "codemirror_mode": {
    "name": "ipython",
    "version": 3
   },
   "file_extension": ".py",
   "mimetype": "text/x-python",
   "name": "python",
   "nbconvert_exporter": "python",
   "pygments_lexer": "ipython3",
   "version": "3.11.9"
  }
 },
 "nbformat": 4,
 "nbformat_minor": 2
}
